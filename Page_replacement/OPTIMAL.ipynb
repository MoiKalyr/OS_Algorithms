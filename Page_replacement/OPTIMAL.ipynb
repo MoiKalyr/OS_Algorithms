{
 "cells": [
  {
   "cell_type": "code",
   "execution_count": 2,
   "id": "b3b2f341-8a37-42e5-bb48-4c5487358500",
   "metadata": {},
   "outputs": [
    {
     "name": "stdout",
     "output_type": "stream",
     "text": [
      "Enter the number of frames:  4\n",
      "Enter the page reference string (space-separated):  3 5 6 7\n"
     ]
    },
    {
     "name": "stdout",
     "output_type": "stream",
     "text": [
      "Page sequence: [3, 5, 6, 7]\n",
      "Page hits: 0\n",
      "Page faults: 4\n",
      "Hit ratio: 0.00\n",
      "Fault ratio: 1.00\n"
     ]
    },
    {
     "data": {
      "image/png": "[encoded data removed]",
      "text/plain": [
       "<Figure size 1000x600 with 1 Axes>"
      ]
     },
     "metadata": {},
     "output_type": "display_data"
    }
   ],
   "source": [
    "##### import pandas as pd\n",
    "import matplotlib.pyplot as plt\n",
    "from matplotlib.colors import ListedColormap\n",
    "\n",
    "class OptimalPageReplacement:\n",
    "    def __init__(self, num_frames):\n",
    "        self.num_frames = num_frames\n",
    "        self.frames = []\n",
    "        self.page_faults = 0\n",
    "        self.page_hits = 0\n",
    "        self.page_sequence = []\n",
    "        self.page_steps = []\n",
    "\n",
    "    def access_page(self, page, current_index, future_pages):\n",
    "        step = {\"Page\": page, \"Hit/Fault\": \"Fault\"}\n",
    "        \n",
    "        # Track the current state of frames\n",
    "        frame_state = list(self.frames)\n",
    "        \n",
    "        if page in self.frames:\n",
    "            # Page hit\n",
    "            self.page_hits += 1\n",
    "            step[\"Hit/Fault\"] = \"Hit\"\n",
    "            self.page_steps.append((page, frame_state, \"Hit\"))\n",
    "            return\n",
    "        \n",
    "        # Page fault: add the page or replace the optimal page\n",
    "        if len(self.frames) < self.num_frames:\n",
    "            self.frames.append(page)\n",
    "        else:\n",
    "            # Find the page to replace using the optimal strategy\n",
    "            farthest_use = -1\n",
    "            page_to_replace = None\n",
    "            for frame_page in self.frames:\n",
    "                if frame_page not in future_pages:\n",
    "                    page_to_replace = frame_page\n",
    "                    break\n",
    "                else:\n",
    "                    next_use = future_pages.index(frame_page)\n",
    "                    if next_use > farthest_use:\n",
    "                        farthest_use = next_use\n",
    "                        page_to_replace = frame_page\n",
    "            \n",
    "            # Replace the page\n",
    "            self.frames.remove(page_to_replace)\n",
    "            self.frames.append(page)\n",
    "        \n",
    "        self.page_faults += 1\n",
    "        self.page_steps.append((page, frame_state, \"Fault\"))\n",
    "\n",
    "    def simulate(self, page_sequence):\n",
    "        self.page_sequence = page_sequence\n",
    "        for i, page in enumerate(page_sequence):\n",
    "            future_pages = page_sequence[i + 1:]  # Pages to be accessed in the future\n",
    "            self.access_page(page, i, future_pages)\n",
    "\n",
    "    def print_results(self):\n",
    "        print(f\"Page sequence: {self.page_sequence}\")\n",
    "        print(f\"Page hits: {self.page_hits}\")\n",
    "        print(f\"Page faults: {self.page_faults}\")\n",
    "        print(f\"Hit ratio: {self.page_hits / len(self.page_sequence):.2f}\")\n",
    "        print(f\"Fault ratio: {self.page_faults / len(self.page_sequence):.2f}\")\n",
    "\n",
    "    def display_table(self):\n",
    "        # Create DataFrame with steps for displaying\n",
    "        data = []\n",
    "        for page, frame_state, hit_fault in self.page_steps:\n",
    "            row = {'Page': page}\n",
    "            for i in range(self.num_frames):\n",
    "                row[f\"F{i+1}\"] = frame_state[i] if i < len(frame_state) else \"\"\n",
    "            row['Hit/Fault'] = hit_fault\n",
    "            data.append(row)\n",
    "\n",
    "        df = pd.DataFrame(data)\n",
    "        cmap = ListedColormap(['red', 'white'])\n",
    "        fig, ax = plt.subplots(figsize=(10, 6))\n",
    "        ax.axis('off')\n",
    "        table = ax.table(cellText=df.values, colLabels=df.columns, loc='center', cellLoc='center')\n",
    "        table.auto_set_font_size(False)\n",
    "        table.set_fontsize(12)\n",
    "        for i, (page, frame_state, hit_fault) in enumerate(self.page_steps):\n",
    "            for j in range(self.num_frames):\n",
    "                if hit_fault == \"Fault\" and j < len(frame_state) and frame_state[j] == page:\n",
    "                    table[(i + 1, j + 1)].set_facecolor(cmap(0))\n",
    "                else:\n",
    "                    table[(i + 1, j + 1)].set_facecolor(cmap(1))\n",
    "            table[(i + 1, self.num_frames + 1)].set_facecolor(cmap(1 if hit_fault == \"Hit\" else 0))\n",
    "        plt.show()\n",
    "\n",
    "# Get user input for the simulation\n",
    "num_frames = int(input(\"Enter the number of frames: \"))\n",
    "page_sequence_input = input(\"Enter the page reference string (space-separated): \")\n",
    "page_sequence = list(map(int, page_sequence_input.split()))\n",
    "\n",
    "# Initialize the Optimal Page Replacement\n",
    "optimal = OptimalPageReplacement(num_frames)\n",
    "\n",
    "# Simulate the page replacement\n",
    "optimal.simulate(page_sequence)\n",
    "\n",
    "# Print results\n",
    "optimal.print_results()\n",
    "\n",
    "# Display the table showing the page replacement process\n",
    "optimal.display_table()\n"
   ]
  },
  {
   "cell_type": "code",
   "execution_count": null,
   "id": "f459713f-8fab-4505-9c8c-850146453c41",
   "metadata": {},
   "outputs": [],
   "source": []
  }
 ],
 "metadata": {
  "kernelspec": {
   "display_name": ".venv",
   "language": "python",
   "name": "python3"
  },
  "language_info": {
   "codemirror_mode": {
    "name": "ipython",
    "version": 3
   },
   "file_extension": ".py",
   "mimetype": "text/x-python",
   "name": "python",
   "nbconvert_exporter": "python",
   "pygments_lexer": "ipython3",
   "version": "3.11.5"
  }
 },
 "nbformat": 4,
 "nbformat_minor": 5
}

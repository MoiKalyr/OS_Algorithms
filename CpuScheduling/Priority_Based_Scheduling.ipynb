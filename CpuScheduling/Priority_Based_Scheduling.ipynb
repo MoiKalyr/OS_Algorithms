{
 "cells": [
  {
   "cell_type": "markdown",
   "metadata": {},
   "source": [
    "<span style=\"font-size: 34px;\">PRIORITY BASED SCHEDULING</span>"
   ]
  },
  {
   "cell_type": "code",
   "execution_count": 92,
   "metadata": {},
   "outputs": [],
   "source": [
    "import matplotlib.pyplot as plt"
   ]
  },
  {
   "cell_type": "code",
   "execution_count": 93,
   "metadata": {},
   "outputs": [],
   "source": [
    "processes = [\n",
    "    {'process_id': 'A', 'arrival_time': 0, 'burst_time': 8, 'priority': 2},\n",
    "    {'process_id': 'B', 'arrival_time': 3, 'burst_time': 4, 'priority': 1},\n",
    "    {'process_id': 'C', 'arrival_time': 4, 'burst_time': 5, 'priority': 3},\n",
    "    {'process_id': 'D', 'arrival_time': 6, 'burst_time': 3, 'priority': 2},\n",
    "    {'process_id': 'E', 'arrival_time': 10, 'burst_time': 2, 'priority': 1}\n",
    "]"
   ]
  },
  {
   "cell_type": "code",
   "execution_count": 94,
   "metadata": {},
   "outputs": [],
   "source": [
    "def preemptive_priority_scheduling(processes):\n",
    "    # Sort processes by arrival time\n",
    "    processes.sort(key=lambda x: x['arrival_time'])\n",
    "    \n",
    "    current_time = 0\n",
    "    completed_processes = []\n",
    "    ready_queue = []\n",
    "    gantt_chart = []\n",
    "\n",
    "    while len(completed_processes) < len(processes):\n",
    "        # Add processes to ready queue if they have arrived by the current time\n",
    "        for process in processes:\n",
    "            if process['arrival_time'] <= current_time and process not in ready_queue and process['burst_time'] > 0:\n",
    "                ready_queue.append(process)\n",
    "\n",
    "        # If ready queue is not empty, select the process with the highest priority\n",
    "        if ready_queue:\n",
    "            # Sort ready queue by priority and arrival time\n",
    "            ready_queue.sort(key=lambda x: (x['priority'], x['arrival_time']))\n",
    "            current_process = ready_queue.pop(0)\n",
    "\n",
    "            # Execute the process for 1 unit of time\n",
    "            current_process['burst_time'] -= 1\n",
    "            current_time += 1\n",
    "            gantt_chart.append((current_process['process_id'], current_time))\n",
    "\n",
    "            # If process is finished, calculate waiting time and turnaround time\n",
    "            if current_process['burst_time'] == 0:\n",
    "                current_process['completion_time'] = current_time\n",
    "                current_process['turnaround_time'] = current_process['completion_time'] - current_process['arrival_time']\n",
    "                current_process['waiting_time'] = current_process['turnaround_time'] - (current_process['burst_time'] + 1)  # Original burst time\n",
    "\n",
    "                completed_processes.append(current_process)\n",
    "        else:\n",
    "            # If no process is ready, increment time\n",
    "            current_time += 1\n",
    "\n",
    "    return completed_processes, gantt_chart\n"
   ]
  },
  {
   "cell_type": "code",
   "execution_count": 95,
   "metadata": {},
   "outputs": [],
   "source": [
    "def calculate_averages(processes):\n",
    "    waiting_time = sum(process['waiting_time'] for process in processes)\n",
    "    turnaround_time = sum(process['turnaround_time'] for process in processes)\n",
    "    avg_waiting_time = waiting_time / len(processes)\n",
    "    avg_turnaround_time = turnaround_time / len(processes)\n",
    "    return avg_waiting_time, avg_turnaround_time\n"
   ]
  },
  {
   "cell_type": "markdown",
   "metadata": {},
   "source": [
    "<span style=\"font-size: 34px;\">Gantt Chart Prettier</span>"
   ]
  },
  {
   "cell_type": "code",
   "execution_count": 96,
   "metadata": {},
   "outputs": [],
   "source": [
    "def display_gantt_chart(gantt_chart):\n",
    "    process_ids = [process_id for process_id, _ in gantt_chart]\n",
    "    times = [time for _, time in gantt_chart]\n",
    "\n",
    "    # to make it colorful\n",
    "    norm = plt.Normalize(min(times), max(times))\n",
    "    cmap = plt.cm.get_cmap('summer')  # Change color map for better visualization\n",
    "    colors = [cmap(norm(time)) for time in times]\n",
    "\n",
    "    plt.figure(figsize=(10, 5))\n",
    "    plt.barh(process_ids, [1]*len(process_ids), left=times, color=colors, height=0.5)\n",
    "    plt.xlabel('Time')\n",
    "    plt.ylabel('Process')\n",
    "    plt.title('Preemptive Priority Scheduling Gantt Chart')\n",
    "    plt.grid(True)\n",
    "    plt.show()\n"
   ]
  },
  {
   "cell_type": "code",
   "execution_count": 97,
   "metadata": {},
   "outputs": [],
   "source": [
    "def main():\n",
    "    scheduled_processes, gantt_chart = preemptive_priority_scheduling(processes)\n",
    "    \n",
    "    # Calculate averages\n",
    "    avg_waiting_time, avg_turnaround_time = calculate_averages(scheduled_processes)\n",
    "\n",
    "    # Display process details in a table\n",
    "    print(\"Process ID\\tArrival Time\\tBurst Time\\tPriority\\tWaiting Time\\tTurnaround Time\")\n",
    "    for process in scheduled_processes:\n",
    "        print(f\"{process['process_id']}\\t\\t{process['arrival_time']}\\t\\t{process['burst_time']}\\t\\t{process['priority']}\\t\\t{process['waiting_time']}\\t\\t{process['turnaround_time']}\")\n",
    "\n",
    "    print(f\"\\nAverage Waiting Time: {avg_waiting_time:.2f}\")\n",
    "    print(f\"Average Turnaround Time: {avg_turnaround_time:.2f}\")\n",
    "\n",
    "    # Display the Gantt chart\n",
    "    display_gantt_chart(gantt_chart)\n"
   ]
  },
  {
   "cell_type": "code",
   "execution_count": 98,
   "metadata": {},
   "outputs": [
    {
     "name": "stdout",
     "output_type": "stream",
     "text": [
      "Process ID\tArrival Time\tBurst Time\tPriority\tWaiting Time\tTurnaround Time\n",
      "B\t\t3\t\t0\t\t1\t\t3\t\t4\n",
      "E\t\t10\t\t0\t\t1\t\t1\t\t2\n",
      "A\t\t0\t\t0\t\t2\t\t13\t\t14\n",
      "D\t\t6\t\t0\t\t2\t\t10\t\t11\n",
      "C\t\t4\t\t0\t\t3\t\t17\t\t18\n",
      "\n",
      "Average Waiting Time: 8.80\n",
      "Average Turnaround Time: 9.80\n"
     ]
    },
    {
     "name": "stderr",
     "output_type": "stream",
     "text": [
      "C:\\Users\\USER\\AppData\\Local\\Temp\\ipykernel_9488\\1904593715.py:7: MatplotlibDeprecationWarning: The get_cmap function was deprecated in Matplotlib 3.7 and will be removed in 3.11. Use ``matplotlib.colormaps[name]`` or ``matplotlib.colormaps.get_cmap()`` or ``pyplot.get_cmap()`` instead.\n",
      "  cmap = plt.cm.get_cmap('summer')  # Change color map for better visualization\n"
     ]
    },
    {
     "data": {
      "image/png": "[encoded data removed]",
      "text/plain": [
       "<Figure size 1000x500 with 1 Axes>"
      ]
     },
     "metadata": {},
     "output_type": "display_data"
    }
   ],
   "source": [
    "if __name__ == \"__main__\":\n",
    "    main()\n"
   ]
  }
 ],
 "metadata": {
  "kernelspec": {
   "display_name": ".venv",
   "language": "python",
   "name": "python3"
  },
  "language_info": {
   "codemirror_mode": {
    "name": "ipython",
    "version": 3
   },
   "file_extension": ".py",
   "mimetype": "text/x-python",
   "name": "python",
   "nbconvert_exporter": "python",
   "pygments_lexer": "ipython3",
   "version": "3.11.5"
  }
 },
 "nbformat": 4,
 "nbformat_minor": 2
}

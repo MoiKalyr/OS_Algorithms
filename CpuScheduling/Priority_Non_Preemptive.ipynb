{
 "cells": [
  {
   "cell_type": "markdown",
   "metadata": {},
   "source": [
    "<span style=\"font-size: 34px;\">PRIORITY NON PREEMPTIVE</span>"
   ]
  },
  {
   "cell_type": "code",
   "execution_count": 8,
   "metadata": {},
   "outputs": [],
   "source": [
    "import matplotlib.pyplot as plt"
   ]
  },
  {
   "cell_type": "code",
   "execution_count": 9,
   "metadata": {},
   "outputs": [],
   "source": [
    "processes = [\n",
    "    {'process_id': 'A', 'arrival_time': 0, 'burst_time': 8, 'priority': 2},\n",
    "    {'process_id': 'B', 'arrival_time': 3, 'burst_time': 4, 'priority': 1},\n",
    "    {'process_id': 'C', 'arrival_time': 4, 'burst_time': 5, 'priority': 3},\n",
    "    {'process_id': 'D', 'arrival_time': 6, 'burst_time': 3, 'priority': 2},\n",
    "    {'process_id': 'E', 'arrival_time': 10, 'burst_time': 2, 'priority': 1}\n",
    "]\n"
   ]
  },
  {
   "cell_type": "code",
   "execution_count": 10,
   "metadata": {},
   "outputs": [],
   "source": [
    "def priority_non_preemptive_scheduling(processes):\n",
    "\n",
    "    processes.sort(key=lambda x: (x['priority'], x['arrival_time']))\n",
    "\n",
    "    current_time = 0\n",
    "    waiting_time = 0\n",
    "    turnaround_time = 0\n",
    "\n",
    "    for process in processes:\n",
    "        # Check if the process has arrived\n",
    "        if current_time < process['arrival_time']:\n",
    "            current_time = process['arrival_time']\n",
    "\n",
    "        # Calculate waiting time and turnaround time\n",
    "        process['waiting_time'] = current_time - process['arrival_time']\n",
    "        waiting_time += process['waiting_time']\n",
    "        process['turnaround_time'] = process['waiting_time'] + process['burst_time']\n",
    "        turnaround_time += process['turnaround_time']\n",
    "\n",
    "        # Update current time\n",
    "        current_time += process['burst_time']\n",
    "\n",
    "    # Calculate average waiting time and turnaround time\n",
    "    avg_waiting_time = waiting_time / len(processes)\n",
    "    avg_turnaround_time = turnaround_time / len(processes)\n",
    "\n",
    "    return processes, avg_waiting_time, avg_turnaround_time"
   ]
  },
  {
   "cell_type": "markdown",
   "metadata": {},
   "source": [
    "<span style=\"font-size: 34px;\">Gantt Chart Prettier</span>"
   ]
  },
  {
   "cell_type": "code",
   "execution_count": 11,
   "metadata": {},
   "outputs": [],
   "source": [
    "def display_gantt_chart(processes):\n",
    "    process_ids = [process['process_id'] for process in processes]\n",
    "    arrival_times = [process['arrival_time'] for process in processes]\n",
    "    burst_times = [process['burst_time'] for process in processes]\n",
    "    completion_times = [arrival_time + burst_time for arrival_time, burst_time in zip(arrival_times, burst_times)]\n",
    "\n",
    "    # to make it colorful\n",
    "    norm = plt.Normalize(min(completion_times), max(completion_times))\n",
    "    cmap = plt.cm.get_cmap('summer')  \n",
    "    colors = [cmap(norm(completion_time)) for completion_time in completion_times]\n",
    "\n",
    "    plt.figure(figsize=(10, 5))\n",
    "    plt.barh(process_ids, burst_times, left=arrival_times, color=colors, linewidth=2)  # left is arrival_time, width is burst_time\n",
    "    plt.xlabel('Time')\n",
    "    plt.ylabel('Process')\n",
    "    plt.title('Priority Non-Preemptive Scheduling Gantt Chart')\n",
    "    plt.grid(True)\n",
    "    plt.show()"
   ]
  },
  {
   "cell_type": "code",
   "execution_count": 12,
   "metadata": {},
   "outputs": [],
   "source": [
    "scheduled_processes, avg_waiting_time, avg_turnaround_time = priority_non_preemptive_scheduling(processes)"
   ]
  },
  {
   "cell_type": "code",
   "execution_count": 13,
   "metadata": {},
   "outputs": [
    {
     "name": "stdout",
     "output_type": "stream",
     "text": [
      "Process ID\tArrival Time\tBurst Time\tPriority\tWaiting Time\tTurnaround Time\n",
      "B\t\t3\t\t4\t\t1\t\t0\t\t4\n",
      "E\t\t10\t\t2\t\t1\t\t0\t\t2\n",
      "A\t\t0\t\t8\t\t2\t\t12\t\t20\n",
      "D\t\t6\t\t3\t\t2\t\t14\t\t17\n",
      "C\t\t4\t\t5\t\t3\t\t19\t\t24\n",
      "Average Waiting Time: 9.00\n",
      "Average Turnaround Time: 13.40\n"
     ]
    }
   ],
   "source": [
    "print(\"Process ID\\tArrival Time\\tBurst Time\\tPriority\\tWaiting Time\\tTurnaround Time\")\n",
    "for process in scheduled_processes:\n",
    "    print(f\"{process['process_id']}\\t\\t{process['arrival_time']}\\t\\t{process['burst_time']}\\t\\t{process['priority']}\\t\\t{process['waiting_time']}\\t\\t{process['turnaround_time']}\")\n",
    "print(f\"Average Waiting Time: {avg_waiting_time:.2f}\")\n",
    "print(f\"Average Turnaround Time: {avg_turnaround_time:.2f}\")"
   ]
  },
  {
   "cell_type": "code",
   "execution_count": 14,
   "metadata": {},
   "outputs": [
    {
     "name": "stderr",
     "output_type": "stream",
     "text": [
      "C:\\Users\\USER\\AppData\\Local\\Temp\\ipykernel_12480\\3804269085.py:9: MatplotlibDeprecationWarning: The get_cmap function was deprecated in Matplotlib 3.7 and will be removed in 3.11. Use ``matplotlib.colormaps[name]`` or ``matplotlib.colormaps.get_cmap()`` or ``pyplot.get_cmap()`` instead.\n",
      "  cmap = plt.cm.get_cmap('summer')\n"
     ]
    },
    {
     "data": {
      "image/png": "[encoded data removed]",
      "text/plain": [
       "<Figure size 1000x500 with 1 Axes>"
      ]
     },
     "metadata": {},
     "output_type": "display_data"
    }
   ],
   "source": [
    "display_gantt_chart(scheduled_processes)"
   ]
  }
 ],
 "metadata": {
  "kernelspec": {
   "display_name": ".venv",
   "language": "python",
   "name": "python3"
  },
  "language_info": {
   "codemirror_mode": {
    "name": "ipython",
    "version": 3
   },
   "file_extension": ".py",
   "mimetype": "text/x-python",
   "name": "python",
   "nbconvert_exporter": "python",
   "pygments_lexer": "ipython3",
   "version": "3.11.5"
  }
 },
 "nbformat": 4,
 "nbformat_minor": 2
}

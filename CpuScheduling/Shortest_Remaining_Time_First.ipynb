{
 "cells": [
  {
   "cell_type": "markdown",
   "metadata": {},
   "source": [
    "<span style=\"font-size: 34px;\">SHORTEST REMAINING TIME FIRST</span>"
   ]
  },
  {
   "cell_type": "code",
   "execution_count": 85,
   "metadata": {},
   "outputs": [],
   "source": [
    "import matplotlib.pyplot as plt"
   ]
  },
  {
   "cell_type": "code",
   "execution_count": 86,
   "metadata": {},
   "outputs": [],
   "source": [
    "processes = [\n",
    "    {'process_id': 'A', 'arrival_time': 0, 'burst_time': 8, 'waiting_time': 0, 'turnaround_time': 8},\n",
    "    {'process_id': 'B', 'arrival_time': 3, 'burst_time': 4, 'waiting_time': 1, 'turnaround_time': 5},\n",
    "    {'process_id': 'C', 'arrival_time': 4, 'burst_time': 5, 'waiting_time': 0, 'turnaround_time': 5},\n",
    "    {'process_id': 'D', 'arrival_time': 6, 'burst_time': 3, 'waiting_time': 2, 'turnaround_time': 5},\n",
    "    {'process_id': 'E', 'arrival_time': 10, 'burst_time': 2, 'waiting_time': 0, 'turnaround_time': 2}\n",
    "]"
   ]
  },
  {
   "cell_type": "code",
   "execution_count": 87,
   "metadata": {},
   "outputs": [],
   "source": [
    "def srtf_scheduling(processes):\n",
    "    processes.sort(key=lambda x: x['arrival_time'])  # Sort processes by arrival time\n",
    "\n",
    "    ready_queue = []\n",
    "    current_time = 0\n",
    "    completed_processes = []\n",
    "    remaining_processes = processes[:]  # Make a copy to avoid modifying the original list\n",
    "\n",
    "    while remaining_processes or ready_queue:\n",
    "        # Add processes to ready queue if they have arrived by the current time\n",
    "        for process in remaining_processes[:]:\n",
    "            if process['arrival_time'] <= current_time:\n",
    "                ready_queue.append(process)\n",
    "                remaining_processes.remove(process)\n",
    "\n",
    "        if ready_queue:\n",
    "            # Sort the ready queue based on the remaining burst time (SRTF)\n",
    "            ready_queue.sort(key=lambda x: x['burst_time'])\n",
    "\n",
    "            # Select the process with the shortest remaining time\n",
    "            current_process = ready_queue.pop(0)\n",
    "\n",
    "            # Update waiting time and turnaround time\n",
    "            current_process['waiting_time'] = current_time - current_process['arrival_time']\n",
    "            current_process['turnaround_time'] = current_process['waiting_time'] + current_process['burst_time']\n",
    "\n",
    "            # Increment current time and decrease burst time\n",
    "            current_time += 1\n",
    "            current_process['burst_time'] -= 1\n",
    "\n",
    "            # If the process is not finished, add it back to the ready queue\n",
    "            if current_process['burst_time'] > 0:\n",
    "                ready_queue.append(current_process)\n",
    "            else:\n",
    "                completed_processes.append(current_process)\n",
    "\n",
    "        else:\n",
    "            # If no process is in the ready queue, just increment the time\n",
    "            current_time += 1\n",
    "\n",
    "    # Calculate average waiting time and turnaround time\n",
    "    waiting_time = sum(process['waiting_time'] for process in completed_processes)\n",
    "    turnaround_time = sum(process['turnaround_time'] for process in completed_processes)\n",
    "    avg_waiting_time = waiting_time / len(completed_processes)\n",
    "    avg_turnaround_time = turnaround_time / len(completed_processes)\n",
    "\n",
    "    return completed_processes, avg_waiting_time, avg_turnaround_time"
   ]
  },
  {
   "cell_type": "markdown",
   "metadata": {},
   "source": [
    "<span style=\"font-size: 34px;\">Gantt Chart Prettier</span>"
   ]
  },
  {
   "cell_type": "code",
   "execution_count": 88,
   "metadata": {},
   "outputs": [],
   "source": [
    "def display_gantt_chart(processes):\n",
    "\n",
    "\n",
    "    process_ids = [process['process_id'] for process in processes]\n",
    "    start_times = [process['arrival_time'] for process in processes]\n",
    "    end_times = [process['arrival_time'] + process['burst_time'] for process in processes]\n",
    "    \n",
    "    # Normalize completion times to [0, 1] for colormap\n",
    "    burst_times = [process['burst_time'] for process in processes]\n",
    "    norm = plt.Normalize(min(burst_times), max(burst_times))  # Normalize based on burst times\n",
    "    cmap = plt.cm.get_cmap('summer')  # Choose your desired colormap\n",
    "    colors = [cmap(norm(burst_time)) for burst_time in burst_times]\n",
    "\n",
    "    # Create Gantt chart\n",
    "    plt.figure(figsize=(10, 5))\n",
    "    plt.barh(process_ids, [end_time - start_time for start_time, end_time in zip(start_times, end_times)], left=start_times, color=colors)\n",
    "    plt.xlabel('Time')\n",
    "    plt.ylabel('Process')\n",
    "    plt.title('Scheduling Algorithm Gantt Chart')  # Replace with specific algorithm name\n",
    "    plt.grid(True)\n",
    "    plt.show()\n"
   ]
  },
  {
   "cell_type": "code",
   "execution_count": 89,
   "metadata": {},
   "outputs": [],
   "source": [
    "scheduled_processes, avg_waiting_time, avg_turnaround_time = srtf_scheduling(processes)"
   ]
  },
  {
   "cell_type": "code",
   "execution_count": 90,
   "metadata": {},
   "outputs": [
    {
     "name": "stdout",
     "output_type": "stream",
     "text": [
      "Process ID\tArrival Time\tBurst Time\tWaiting Time\tTurnaround Time\n",
      "B\t\t3\t\t0\t\t3\t\t4\n",
      "D\t\t6\t\t0\t\t3\t\t4\n",
      "E\t\t10\t\t0\t\t1\t\t2\n",
      "A\t\t0\t\t0\t\t16\t\t17\n",
      "C\t\t4\t\t0\t\t17\t\t18\n",
      "Average Waiting Time: 8.00\n",
      "Average Turnaround Time: 9.00\n"
     ]
    }
   ],
   "source": [
    "print(\"Process ID\\tArrival Time\\tBurst Time\\tWaiting Time\\tTurnaround Time\")\n",
    "for process in scheduled_processes:\n",
    "    print(f\"{process['process_id']}\\t\\t{process['arrival_time']}\\t\\t{process['burst_time']}\\t\\t{process['waiting_time']}\\t\\t{process['turnaround_time']}\")\n",
    "print(f\"Average Waiting Time: {avg_waiting_time:.2f}\")\n",
    "print(f\"Average Turnaround Time: {avg_turnaround_time:.2f}\")"
   ]
  },
  {
   "cell_type": "code",
   "execution_count": 91,
   "metadata": {},
   "outputs": [
    {
     "name": "stderr",
     "output_type": "stream",
     "text": [
      "C:\\Users\\USER\\AppData\\Local\\Temp\\ipykernel_8188\\666787632.py:11: MatplotlibDeprecationWarning: The get_cmap function was deprecated in Matplotlib 3.7 and will be removed in 3.11. Use ``matplotlib.colormaps[name]`` or ``matplotlib.colormaps.get_cmap()`` or ``pyplot.get_cmap()`` instead.\n",
      "  cmap = plt.cm.get_cmap('summer')  # Choose your desired colormap\n"
     ]
    },
    {
     "data": {
      "image/png": "[encoded data removed]",
      "text/plain": [
       "<Figure size 1000x500 with 1 Axes>"
      ]
     },
     "metadata": {},
     "output_type": "display_data"
    }
   ],
   "source": [
    "display_gantt_chart(scheduled_processes)"
   ]
  }
 ],
 "metadata": {
  "kernelspec": {
   "display_name": ".venv",
   "language": "python",
   "name": "python3"
  },
  "language_info": {
   "codemirror_mode": {
    "name": "ipython",
    "version": 3
   },
   "file_extension": ".py",
   "mimetype": "text/x-python",
   "name": "python",
   "nbconvert_exporter": "python",
   "pygments_lexer": "ipython3",
   "version": "3.11.5"
  }
 },
 "nbformat": 4,
 "nbformat_minor": 2
}

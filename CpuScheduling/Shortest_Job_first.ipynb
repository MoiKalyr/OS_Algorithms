{
 "cells": [
  {
   "cell_type": "markdown",
   "metadata": {},
   "source": [
    "SHORTEST JOB FIRST\n",
    "\n"
   ]
  },
  {
   "cell_type": "code",
   "execution_count": 34,
   "metadata": {},
   "outputs": [],
   "source": [
    "# Please change the input to your desire\n",
    "# you can lessen the number of inputs or increase it\n",
    "\n",
    "inputss = [0, 6, 0, 4, 0, 1]"
   ]
  },
  {
   "cell_type": "code",
   "execution_count": 35,
   "metadata": {},
   "outputs": [
    {
     "name": "stdout",
     "output_type": "stream",
     "text": [
      "These are the inputs\n",
      "[0 6 0 4 0 1]\n"
     ]
    }
   ],
   "source": [
    "import numpy as np\n",
    "print (\"These are the inputs\")\n",
    "# inputss = [int(x) for x in input().split()] \n",
    "inputs = np.array(inputss)\n",
    "print(inputs)"
   ]
  },
  {
   "cell_type": "code",
   "execution_count": 36,
   "metadata": {},
   "outputs": [
    {
     "data": {
      "text/plain": [
       "[[1, 0, 6], [2, 0, 4], [3, 0, 1]]"
      ]
     },
     "execution_count": 36,
     "metadata": {},
     "output_type": "execute_result"
    }
   ],
   "source": [
    "process = inputs.reshape((int(len(inputs)/2), 2)) #converting 2d\n",
    "process = process.tolist() #converting Normal list\n",
    "# Adding Task number\n",
    "# \n",
    "# 0 means adding to ) no index\n",
    "#\n",
    "for p in range(len(process)):\n",
    "    process[p].insert(0, p+1)\n",
    "\n",
    "process"
   ]
  },
  {
   "cell_type": "code",
   "execution_count": 37,
   "metadata": {},
   "outputs": [
    {
     "data": {
      "text/plain": [
       "[[3, 0, 1], [2, 0, 4], [1, 0, 6]]"
      ]
     },
     "execution_count": 37,
     "metadata": {},
     "output_type": "execute_result"
    }
   ],
   "source": [
    "sjf = sorted(process,key=lambda x: (x[2],x[1])) \n",
    "sjf "
   ]
  },
  {
   "cell_type": "code",
   "execution_count": 38,
   "metadata": {},
   "outputs": [
    {
     "name": "stdout",
     "output_type": "stream",
     "text": [
      "Compltion time for P3 is: 1\n",
      "Compltion time for P2 is: 5\n",
      "Compltion time for P1 is: 11\n"
     ]
    }
   ],
   "source": [
    "ct = []\n",
    "for i in range(int(len(sjf))):\n",
    "    if i == 0: \n",
    "    # for first task ct is null so ct = at + bt of that process\n",
    "        ct.append(sjf[i][1] + sjf[i][2])\n",
    "    else:\n",
    "        ct.append(sjf[i][2] + ct[i-1])\n",
    "\n",
    "# printing Compltion time\n",
    "for i in range(len(ct)):\n",
    "    print (\"Compltion time for P{} is: {}\".format(sjf[i][0],ct[i]))"
   ]
  },
  {
   "cell_type": "code",
   "execution_count": 39,
   "metadata": {},
   "outputs": [
    {
     "name": "stdout",
     "output_type": "stream",
     "text": [
      "Turn Around Time for P3 is: 1\n",
      "Turn Around Time for P2 is: 5\n",
      "Turn Around Time for P1 is: 11\n",
      "Average Turn Around Time for all process is:  5.67\n"
     ]
    }
   ],
   "source": [
    "tat = []\n",
    "for i in range(int(len(sjf))):\n",
    "    tat.append(ct[i] - sjf[i][1])\n",
    "    \n",
    "# printing Turn Around Time\n",
    "for i in range(len(tat)):\n",
    "    print (\"Turn Around Time for P{} is: {}\".format(sjf[i][0],tat[i]))\n",
    "\n",
    "avarage_TAT = round(np.mean(tat),2)\n",
    "print (\"Average Turn Around Time for all process is: \",avarage_TAT)"
   ]
  },
  {
   "cell_type": "code",
   "execution_count": 40,
   "metadata": {},
   "outputs": [
    {
     "name": "stdout",
     "output_type": "stream",
     "text": [
      "Waiting time for P3 is: 0\n",
      "Waiting time for P2 is: 1\n",
      "Waiting time for P1 is: 5\n"
     ]
    }
   ],
   "source": [
    "wt = []\n",
    "for i in range(int(len(sjf))):\n",
    "    wt.append(tat[i] - sjf[i][2])\n",
    "    \n",
    "# printing Waiting time\n",
    "for i in range(len(wt)):\n",
    "    print (\"Waiting time for P{} is: {}\".format(sjf[i][0],wt[i]))"
   ]
  },
  {
   "cell_type": "code",
   "execution_count": 41,
   "metadata": {},
   "outputs": [
    {
     "name": "stdout",
     "output_type": "stream",
     "text": [
      "Average Waiting Time for all process is:  2.0\n"
     ]
    }
   ],
   "source": [
    "avarage_WT = round(np.mean(wt),2)\n",
    "print (\"Average Waiting Time for all process is: \",avarage_WT)"
   ]
  }
 ],
 "metadata": {
  "kernelspec": {
   "display_name": ".venv",
   "language": "python",
   "name": "python3"
  },
  "language_info": {
   "codemirror_mode": {
    "name": "ipython",
    "version": 3
   },
   "file_extension": ".py",
   "mimetype": "text/x-python",
   "name": "python",
   "nbconvert_exporter": "python",
   "pygments_lexer": "ipython3",
   "version": "3.11.5"
  }
 },
 "nbformat": 4,
 "nbformat_minor": 2
}

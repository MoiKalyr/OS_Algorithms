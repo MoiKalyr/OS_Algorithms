{
 "cells": [
  {
   "cell_type": "markdown",
   "metadata": {},
   "source": [
    "SHORTEST JOB FIRST\n",
    "\n"
   ]
  },
  {
   "cell_type": "code",
   "execution_count": null,
   "metadata": {},
   "outputs": [],
   "source": [
    "# Please change the input to your desire\n",
    "# you can lessen the number of inputs or increase it\n",
    "\n",
    "inputss = [0, 6, 0, 4, 0, 1]"
   ]
  },
  {
   "cell_type": "code",
   "execution_count": 43,
   "metadata": {},
   "outputs": [
    {
     "name": "stdout",
     "output_type": "stream",
     "text": [
      "These are the inputs\n",
      "[ 0  6  0  4  0  1  7  0 10 11]\n"
     ]
    }
   ],
   "source": [
    "import numpy as np\n",
    "print (\"These are the inputs\")\n",
    "# inputss = [int(x) for x in input().split()] \n",
    "inputs = np.array(inputss)\n",
    "print(inputs)"
   ]
  },
  {
   "cell_type": "code",
   "execution_count": 44,
   "metadata": {},
   "outputs": [
    {
     "data": {
      "text/plain": [
       "[[1, 0, 6], [2, 0, 4], [3, 0, 1], [4, 7, 0], [5, 10, 11]]"
      ]
     },
     "execution_count": 44,
     "metadata": {},
     "output_type": "execute_result"
    }
   ],
   "source": [
    "process = inputs.reshape((int(len(inputs)/2), 2)) #converting 2d\n",
    "process = process.tolist() #converting Normal list\n",
    "# Adding Task number\n",
    "# \n",
    "# 0 means adding to ) no index\n",
    "#\n",
    "for p in range(len(process)):\n",
    "    process[p].insert(0, p+1)\n",
    "\n",
    "process"
   ]
  },
  {
   "cell_type": "code",
   "execution_count": 45,
   "metadata": {},
   "outputs": [
    {
     "data": {
      "text/plain": [
       "[[4, 7, 0], [3, 0, 1], [2, 0, 4], [1, 0, 6], [5, 10, 11]]"
      ]
     },
     "execution_count": 45,
     "metadata": {},
     "output_type": "execute_result"
    }
   ],
   "source": [
    "sjf = sorted(process,key=lambda x: (x[2],x[1])) \n",
    "sjf "
   ]
  },
  {
   "cell_type": "code",
   "execution_count": 46,
   "metadata": {},
   "outputs": [
    {
     "name": "stdout",
     "output_type": "stream",
     "text": [
      "Compltion time for P4 is: 7\n",
      "Compltion time for P3 is: 8\n",
      "Compltion time for P2 is: 12\n",
      "Compltion time for P1 is: 18\n",
      "Compltion time for P5 is: 29\n"
     ]
    }
   ],
   "source": [
    "ct = []\n",
    "for i in range(int(len(sjf))):\n",
    "    if i == 0: \n",
    "    # for first task ct is null so ct = at + bt of that process\n",
    "        ct.append(sjf[i][1] + sjf[i][2])\n",
    "    else:\n",
    "        ct.append(sjf[i][2] + ct[i-1])\n",
    "\n",
    "# printing Compltion time\n",
    "for i in range(len(ct)):\n",
    "    print (\"Compltion time for P{} is: {}\".format(sjf[i][0],ct[i]))"
   ]
  },
  {
   "cell_type": "code",
   "execution_count": 47,
   "metadata": {},
   "outputs": [
    {
     "name": "stdout",
     "output_type": "stream",
     "text": [
      "Turn Around Time for P4 is: 0\n",
      "Turn Around Time for P3 is: 8\n",
      "Turn Around Time for P2 is: 12\n",
      "Turn Around Time for P1 is: 18\n",
      "Turn Around Time for P5 is: 19\n",
      "Average Turn Around Time for all process is:  11.4\n"
     ]
    }
   ],
   "source": [
    "tat = []\n",
    "for i in range(int(len(sjf))):\n",
    "    tat.append(ct[i] - sjf[i][1])\n",
    "    \n",
    "# printing Turn Around Time\n",
    "for i in range(len(tat)):\n",
    "    print (\"Turn Around Time for P{} is: {}\".format(sjf[i][0],tat[i]))\n",
    "\n",
    "avarage_TAT = round(np.mean(tat),2)\n",
    "print (\"Average Turn Around Time for all process is: \",avarage_TAT)"
   ]
  },
  {
   "cell_type": "code",
   "execution_count": 48,
   "metadata": {},
   "outputs": [
    {
     "name": "stdout",
     "output_type": "stream",
     "text": [
      "Waiting time for P4 is: 0\n",
      "Waiting time for P3 is: 7\n",
      "Waiting time for P2 is: 8\n",
      "Waiting time for P1 is: 12\n",
      "Waiting time for P5 is: 8\n"
     ]
    }
   ],
   "source": [
    "wt = []\n",
    "for i in range(int(len(sjf))):\n",
    "    wt.append(tat[i] - sjf[i][2])\n",
    "    \n",
    "# printing Waiting time\n",
    "for i in range(len(wt)):\n",
    "    print (\"Waiting time for P{} is: {}\".format(sjf[i][0],wt[i]))"
   ]
  },
  {
   "cell_type": "code",
   "execution_count": 49,
   "metadata": {},
   "outputs": [
    {
     "name": "stdout",
     "output_type": "stream",
     "text": [
      "Average Waiting Time for all process is:  7.0\n"
     ]
    }
   ],
   "source": [
    "avarage_WT = round(np.mean(wt),2)\n",
    "print (\"Average Waiting Time for all process is: \",avarage_WT)"
   ]
  }
 ],
 "metadata": {
  "kernelspec": {
   "display_name": ".venv",
   "language": "python",
   "name": "python3"
  },
  "language_info": {
   "codemirror_mode": {
    "name": "ipython",
    "version": 3
   },
   "file_extension": ".py",
   "mimetype": "text/x-python",
   "name": "python",
   "nbconvert_exporter": "python",
   "pygments_lexer": "ipython3",
   "version": "3.11.5"
  }
 },
 "nbformat": 4,
 "nbformat_minor": 2
}
